{
 "cells": [
  {
   "cell_type": "markdown",
   "id": "110a5bad-5d14-4597-b6d5-d1b6c17d4e69",
   "metadata": {
    "tags": []
   },
   "source": [
    "# Lector y graficador de archivo de salida de StarLight"
   ]
  },
  {
   "cell_type": "markdown",
   "id": "c7daf55a-c9b8-4747-960d-17c4a7d4f55e",
   "metadata": {},
   "source": [
    "### Lector "
   ]
  },
  {
   "cell_type": "markdown",
   "id": "5cb6e96b-f9b6-4211-a4c7-30e41d14ef49",
   "metadata": {},
   "source": [
    "Esta primera parte del programa lee un unico archivo de salida de StarLight, separando los datos que nos son utiles y eligiendo a la poblacion que aporto mas del 4% al espectro resultante"
   ]
  },
  {
   "cell_type": "code",
   "execution_count": 16,
   "id": "066adb4d-0454-4f97-8d67-992601b0b906",
   "metadata": {},
   "outputs": [],
   "source": [
    "import numpy as np\n",
    "import pandas as pd"
   ]
  },
  {
   "cell_type": "code",
   "execution_count": 17,
   "id": "3236c97e-19cc-4bb9-a680-bf11619664bb",
   "metadata": {},
   "outputs": [
    {
     "name": "stdin",
     "output_type": "stream",
     "text": [
      "Hola, ¿Cual es el nombre del archivo? (Aclarar extención):  SL573_new.out\n"
     ]
    }
   ],
   "source": [
    "nombre_archivo = input('Hola, ¿Cual es el nombre del archivo? (Aclarar extención): ')"
   ]
  },
  {
   "cell_type": "code",
   "execution_count": 18,
   "id": "19f2a11a-f17d-4bec-9f2e-69d390dcd184",
   "metadata": {
    "tags": []
   },
   "outputs": [],
   "source": [
    "lineas = []\n",
    "df = pd.DataFrame(columns=['Valor', 'Parametro']) #en esta tabla voy a guardar los resultados de la sintesis\n",
    "\n",
    "with open(nombre_archivo, 'r') as archivo:\n",
    "    for linea in archivo:\n",
    "        l = linea.strip().split()\n",
    "        lineas.append(l)\n",
    "#-------------------------------------------------------------------------------------------------------------------\n",
    "#ACA GUARDO LOS RESULTADOS DE LA SISTESIS QUE ME INTERESAN (ESTA PARTE HABRIA Q OPTIMIZARLA MEJOR)\n",
    "#-------------------------------------------------------------------------------------------------------------------        \n",
    "        if l and l[-1] == '[chi2/Nl_eff]':\n",
    "            df.loc[0] = [float(l[0]), l[-1]] #aca pongo el float porque si no lo guarda como 'str'\n",
    "\n",
    "        if len(l) >= 3 and l[-2] == '[AV_min' and l[-1] == '(mag)]':\n",
    "            df.loc[1] = [float(l[0]), l[-2] + l[-1]]\n",
    "            \n",
    "        if len(l) >= 3 and l[-2] == '[v0_min' and l[-1] == '(km/s)]':\n",
    "            df.loc[2] = [float(l[0]), l[-2] + l[-1]]\n",
    "        \n",
    "        if len(l) >= 3 and l[-2] == '[vd_min' and l[-1] == '(km/s)]':\n",
    "            df.loc[3] = [float(l[0]), l[-2] + l[-1]]\n",
    "            \n",
    "        \n",
    "#-------------------------------------------------------------------------------------------------------------------\n",
    "#ACA LEO EL TAMAÑO DE LA BASE     \n",
    "#-------------------------------------------------------------------------------------------------------------------\n",
    "        if l and l[-1] == '[N_base]':\n",
    "            d = int(l[0])  # cuando me lo lee del archivo lo hace como ''str' entonces lo paso a entero\n",
    "#-------------------------------------------------------------------------------------------------------------------\n",
    "#ACA LEO la cantidad de puntos que tengo en longitud de onda    \n",
    "#-------------------------------------------------------------------------------------------------------------------            \n",
    "        if l and l[-1] == '[Nl_obs]':\n",
    "            Nl_obs = int(l[0])  # cuando me lo lee del archivo lo hace como ''str' entonces lo paso a entero\n",
    "#-------------------------------------------------------------------------------------------------------------------\n",
    "#ACA CREO EL DATAFRAME DE LA BASE\n",
    "#-------------------------------------------------------------------------------------------------------------------        \n",
    "    del lineas[62][0] #aca borro el primer elemento de esa linea('#') para usarla como columna de la tabla\n",
    "    df1_str = pd.DataFrame(columns = lineas[62])\n",
    "    for i in range(d):\n",
    "        df1_str.loc[i] = lineas[i + 63]\n",
    "#-------------------------------------------------------------------------------------------------------------------\n",
    "#ACA CREO EL DATAFRAME DE LOS DATOS OBSERVADOS Y SINTETICOS\n",
    "#-------------------------------------------------------------------------------------------------------------------\n",
    "    df2_str = pd.DataFrame(columns= ['l_obs', 'f_obs', 'f_syn', 'wei'])\n",
    "    for i in range(Nl_obs):\n",
    "        df2_str.loc[i] = lineas[i+ d*3 + 81] #el d*3 es por la cantidad de veces que aparece la base en el medio\n",
    "    #y el 81 es por los primeros 63 lugares y los espacios entre tabla y tabla  \n",
    "#-------------------------------------------------------------------------------------------------------------------\n",
    "#ACA PASO LOS ELEMNTOS DE LOS DATAFRAMES DE 'STR' A 'FLOAT' DADO QUE AL LEERLOS ASI ME LOS TOMA COMO TEXTO\n",
    "#-------------------------------------------------------------------------------------------------------------------\n",
    "df1 = df1_str.drop('component_j', axis=1).astype(float) #para este es mas complejo porque tengo que dajar 1 columna como 'str'\n",
    "df1['component_j'] = df1_str['component_j'] #defino una nueva columna de df1 para guardar la columna que era texto del anterior y que tire\n",
    "df2 = df2_str.astype(float)\n",
    "#-------------------------------------------------------------------------------------------------------------------\n",
    "#ACA SOLO VOY A TOMAR LAS POBLACIONES QUE APORTEN MAS DEL 4% AL ESPECTRO RESULTANTE\n",
    "#-------------------------------------------------------------------------------------------------------------------\n",
    "df1 = df1[df1['x_j(%)'] > 4].reset_index(drop=True) #aca solo me quedo con los que tienen un aporde mayor a 4%\n",
    "#-------------------------------------------------------------------------------------------------------------------\n",
    "#ACA REESCALEO EL APORTE PARA QUE LA SUMA DE TODAS LAS POBLACIONES CON APORTE MAYOR AL 4% SEA EL 100%\n",
    "#-------------------------------------------------------------------------------------------------------------------\n",
    "df1['x_j(%)'] = df1['x_j(%)'] * 100 / df1['x_j(%)'].sum()"
   ]
  },
  {
   "cell_type": "code",
   "execution_count": 19,
   "id": "a4bd70d1-ee30-4c08-a818-18e3b9b88c43",
   "metadata": {},
   "outputs": [],
   "source": [
    "#df"
   ]
  },
  {
   "cell_type": "code",
   "execution_count": 20,
   "id": "c1f6ab2c-07c9-4441-9da2-8bfd53f964c8",
   "metadata": {},
   "outputs": [],
   "source": [
    "#df1"
   ]
  },
  {
   "cell_type": "markdown",
   "id": "ae1648a7-e1ac-46de-98cf-0d8135f39fe8",
   "metadata": {},
   "source": [
    "### Determinación de Edad y Metalicidad"
   ]
  },
  {
   "cell_type": "markdown",
   "id": "4f1771dd-6cf1-4010-8852-e1d8dc22c3ae",
   "metadata": {},
   "source": [
    "Para determinar la Edad y Metalicidad del espectro sintetico resultante lo que hacemos es utilizar el aporte de cada una de las SSP que esten por encima de 4% y usar el porcentaje de su aporte para calcular un promedio del logaritmo de la edad y metalicidad pesado por este aporte. "
   ]
  },
  {
   "cell_type": "code",
   "execution_count": 21,
   "id": "a1d61351-617c-4715-b749-2eca264dafc5",
   "metadata": {},
   "outputs": [
    {
     "name": "stdout",
     "output_type": "stream",
     "text": [
      "5.602e+08\n"
     ]
    }
   ],
   "source": [
    "edad = int(((df1['x_j(%)'] * df1['age_j(yr)'])).sum()/df1['x_j(%)'].sum()) \n",
    "edad = int(10**(((df1['x_j(%)'] * np.log10(df1['age_j(yr)']))).sum()/df1['x_j(%)'].sum()))\n",
    "edad = f\"{edad:.3e}\" #lo pongo en notacion cientifica con 3 decimales despues de la coma\n",
    "print(edad)"
   ]
  },
  {
   "cell_type": "code",
   "execution_count": 22,
   "id": "56316c19-e14c-416d-aa80-4e71fd838a5c",
   "metadata": {},
   "outputs": [
    {
     "name": "stdout",
     "output_type": "stream",
     "text": [
      "0.006\n"
     ]
    }
   ],
   "source": [
    "met = ((df1['x_j(%)'] * df1['Z_j'])).sum()/df1['x_j(%)'].sum()\n",
    "met = round(met,5) #redondeo la metalicidad a 5 decimales\n",
    "print(met)"
   ]
  },
  {
   "cell_type": "code",
   "execution_count": 23,
   "id": "0bcd7d8c-6cc3-47e6-aa78-4be2771bc6fe",
   "metadata": {},
   "outputs": [
    {
     "name": "stdout",
     "output_type": "stream",
     "text": [
      "8.75e+00\n"
     ]
    }
   ],
   "source": [
    "edad_1 = int(10**(((df1['x_j(%)'] * np.log10(df1['age_j(yr)']))).sum()/df1['x_j(%)'].sum()))\n",
    "edad_1 = np.log10(edad_1)\n",
    "edad_1 = round(edad_1,2) \n",
    "edad_1 = f\"{edad_1:.2e}\"\n",
    "print(edad_1)"
   ]
  },
  {
   "cell_type": "markdown",
   "id": "134702a0-2b02-44ed-8e3a-018124305021",
   "metadata": {},
   "source": [
    "### Graficador "
   ]
  },
  {
   "cell_type": "markdown",
   "id": "aac038e7-6306-4af0-b022-113883b9baed",
   "metadata": {},
   "source": [
    "En esta parte del programa vamos a graficar los datos leidos anteriormente de StarLight utilizando la libreria Plotly."
   ]
  },
  {
   "cell_type": "code",
   "execution_count": 9,
   "id": "8e85569a-a340-4dce-8d42-067370a16e2b",
   "metadata": {},
   "outputs": [],
   "source": [
    "import plotly.graph_objects as go\n",
    "import plotly.offline as pyo"
   ]
  },
  {
   "cell_type": "code",
   "execution_count": 10,
   "id": "59bb7851-537f-45bb-9e98-f34f18881ee0",
   "metadata": {},
   "outputs": [
    {
     "data": {
      "text/plain": [
       "'temp-plot.html'"
      ]
     },
     "execution_count": 10,
     "metadata": {},
     "output_type": "execute_result"
    }
   ],
   "source": [
    "fig = go.Figure()\n",
    "#------------------------------------------------------------------------------------------------------------------------------\n",
    "#ACA HAGO UN GRAFICO DE BURBUJA DEL APORTE DE CADA UNA DE LAS SSP Y DEL ESPECTRO SINTETICO RESULTANTE\n",
    "#------------------------------------------------------------------------------------------------------------------------------\n",
    "x = np.log10(df1['age_j(yr)'])\n",
    "x= round(x,2)\n",
    "y = df1['Z_j']\n",
    "aporte = df1['x_j(%)'] \n",
    "porcen = [f'{valor:.1f}%' for valor in aporte] #esto es para que sobre la burjuja aparesca el aporte en forma de porcentaje\n",
    "\n",
    "fig.add_scatter(x = x, y = y, mode = 'markers',marker = dict(size = 30 + aporte, color ='blue'), name = 'Aporte de SSP') #SSP\n",
    "fig.add_scatter(x = [edad] , y = [met] , mode = 'markers', marker = dict(size = 20, color ='red'), name = 'Promedio') #Sintetico\n",
    "fig.add_trace(go.Scatter(x=x, y=y, mode='text', text= porcen, textposition= 'middle center', name = ' ')) #texto sobre burbujas\n",
    "\n",
    "#------------------------------------------------------------------------------------------------------------------------------\n",
    "#ACA AÑADO UNA NOTACION AL GRAFICO DE LA EDAD,METALICIDA Y CHI2 DEL ESPECTRO RESULTANTE\n",
    "#------------------------------------------------------------------------------------------------------------------------------\n",
    "fig.add_annotation(xref='paper', yref='paper', x=1, y=1,\n",
    "                   text='Espectro sintetico: ' + 'Log(Edad) = ' + f'{edad}' + ' yr' + ', ' +\n",
    "                   'Z = ' + f'{met}'+ ', ' + '\\u03C7\\u00B2 = ' + f'{round(df.iloc[0,0],2)}'+ ', ' + \n",
    "                   'Av = ' + f'{round(df.iloc[3,0],2)}'\n",
    "                   + ', ' + 'V0 = ' + f'{round(df.iloc[1,0],2)}' + ' Km/s'\n",
    "                   + ', ' + 'Vd = ' + f'{round(df.iloc[2,0],2)}' + ' Km/s',\n",
    "                   showarrow=False,\n",
    "                   font=dict(size=18))\n",
    "#-------------------------------------------------------------------------------------------------------------------------------\n",
    "#ACA CONFIGURO LOS DATALLES DEL GRAFICO\n",
    "#-------------------------------------------------------------------------------------------------------------------------------\n",
    "fig.update_layout(title = \"Grafico de burbuja del archivo \" + f\"{nombre_archivo}\", title_font = dict(size=22))\n",
    "fig.update_xaxes(title_text = \"Edad (yr)\", title_font = dict(size=18))\n",
    "fig.update_yaxes(title_text = \"Abundacia\", title_font = dict(size=18))\n",
    "\n",
    "\n",
    "pyo.plot(fig) #si pongo fig.show() me lo muestra en terminal"
   ]
  },
  {
   "cell_type": "code",
   "execution_count": 11,
   "id": "bede6095-937b-4544-a957-f1b51c552572",
   "metadata": {},
   "outputs": [
    {
     "data": {
      "text/plain": [
       "'temp-plot.html'"
      ]
     },
     "execution_count": 11,
     "metadata": {},
     "output_type": "execute_result"
    }
   ],
   "source": [
    "fig = go.Figure()\n",
    "#-------------------------------------------------------------------------------------------------------------------------------\n",
    "#ACA GRAFICO EL ESPECTRO OBSERVADO, EL SINTETICO Y LA DIFERENCIA ENTRE AMBOS\n",
    "#-------------------------------------------------------------------------------------------------------------------------------\n",
    "fig.add_scatter( x = df2['l_obs'], y = df2['f_obs'], name = 'observado')\n",
    "fig.add_scatter( x = df2['l_obs'], y = df2['f_syn'], name = 'modelo')\n",
    "fig.add_scatter( x = df2['l_obs'], y = (df2['f_obs'] - df2['f_syn']), name = 'residuos',line = dict(width = 0.7))\n",
    "#-------------------------------------------------------------------------------------------------------------------------------\n",
    "#ACA CALCULO LA DESVIACION ESTANDAR DE LA DIFERENCIA ENTRE EL MODELO Y LOS DATOS\n",
    "#-------------------------------------------------------------------------------------------------------------------------------\n",
    "sigma = np.std(df2['f_obs'] - df2['f_syn'])\n",
    "#-------------------------------------------------------------------------------------------------------------------------------\n",
    "#ACA GRAFICO LAS RECTAS DEL RESIDUO\n",
    "#-------------------------------------------------------------------------------------------------------------------------------\n",
    "fig.add_scatter( x = df2['l_obs'], y = [0] * len(df2['l_obs']), name = 'residuo 0', line =dict(color = 'black',width = 1,dash = 'dash'))\n",
    "#fig.add_scatter( x = df2['l_obs'], y = [3*sigma] * len(df2['l_obs']), name = '+3 sigmas', line = dict(color = 'black',width = 1,dash = 'dash'))\n",
    "#fig.add_scatter( x = df2['l_obs'], y = [-3*sigma] * len(df2['l_obs']), name ='-3 sigmas', line = dict(color = 'black',width = 1,dash = 'dash'))\n",
    "#-------------------------------------------------------------------------------------------------------------------------------\n",
    "#ACA AÑADO LAS ANOTACIONES AL GRAFICO\n",
    "#-------------------------------------------------------------------------------------------------------------------------------\n",
    "fig.add_annotation(xref='paper', yref='paper', x=1, y=1,\n",
    "                   text='Espectro sintetico: ' + 'Log(Edad) = ' + f'{edad}' + ' yr' + ', ' + \n",
    "                   'Z = ' + f'{met}'+ ', ' + '\\u03C7\\u00B2 = ' + f'{round(df.iloc[0,0],2)}'+ ', ' + \n",
    "                   'Av = ' + f'{round(df.iloc[3,0],2)}'\n",
    "                   + ', ' + 'V0 = ' + f'{round(df.iloc[1,0],2)}' + ' Km/s'\n",
    "                   + ', ' + 'Vd = ' + f'{round(df.iloc[2,0],2)}' + ' Km/s'\n",
    "                   , showarrow=False,\n",
    "                   font=dict(size=18))\n",
    "\n",
    "#-------------------------------------------------------------------------------------------------------------------------------\n",
    "#ACA CONFIGURO LOS DATALLES DEL GRAFICO\n",
    "#-------------------------------------------------------------------------------------------------------------------------------\n",
    "fig.update_layout(title = \"Resuldatos de StarLight del archivo \" + f\"{nombre_archivo}\", title_font = dict(size=22))\n",
    "#fig.update_layout(legend=dict(x=0, y=1, bgcolor='rgba(255, 255, 255, 0.5)', bordercolor='gray', borderwidth=1))\n",
    "fig.update_xaxes(title_text = \"Lambda\", title_font = dict(size=18) )\n",
    "fig.update_yaxes(title_text = \"Flujo\", title_font = dict(size=18))\n",
    "\n",
    "#fig.show()\n",
    "pyo.plot(fig) #si pongo fig.show() me lo muestra en terminal"
   ]
  },
  {
   "cell_type": "code",
   "execution_count": null,
   "id": "f652b7ac-44bf-4907-b518-4589655720fa",
   "metadata": {},
   "outputs": [],
   "source": []
  }
 ],
 "metadata": {
  "kernelspec": {
   "display_name": "Python 3",
   "language": "python",
   "name": "python3"
  },
  "language_info": {
   "codemirror_mode": {
    "name": "ipython",
    "version": 3
   },
   "file_extension": ".py",
   "mimetype": "text/x-python",
   "name": "python",
   "nbconvert_exporter": "python",
   "pygments_lexer": "ipython3",
   "version": "3.9.5"
  }
 },
 "nbformat": 4,
 "nbformat_minor": 5
}
